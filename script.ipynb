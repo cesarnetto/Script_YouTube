{
 "cells": [
  {
   "cell_type": "code",
   "execution_count": null,
   "metadata": {},
   "outputs": [],
   "source": [
    "# pip install pytube\n",
    "\n",
    "# Para importar o modulo \"PYtube\"\n",
    "from pytube import YouTube, streams\n",
    "from pytube.cli import on_progress\n",
    "\n",
    "# Para inserir o url de um video do Youtube\n",
    "link = input(\"Link: \")\n",
    "\n",
    "# Para mostrar o progresso do download\n",
    "yt = YouTube(link, on_progress_callback = on_progress)\n",
    "\n",
    "# Para mostrar o titulo do video\n",
    "print(\"Título = \", yt.title)\n",
    "\n",
    "# Para mostrar que ja iniciou o download\n",
    "print((\"Baixando...\"))\n",
    "\n",
    "# Para baixar a melhor resolução de video \n",
    "ys = yt.streams.get_highest_resolution()\n",
    "ys.download()"
   ]
  }
 ],
 "metadata": {
  "kernelspec": {
   "display_name": "base",
   "language": "python",
   "name": "python3"
  },
  "language_info": {
   "codemirror_mode": {
    "name": "ipython",
    "version": 3
   },
   "file_extension": ".py",
   "mimetype": "text/x-python",
   "name": "python",
   "nbconvert_exporter": "python",
   "pygments_lexer": "ipython3",
   "version": "3.9.7"
  },
  "orig_nbformat": 4
 },
 "nbformat": 4,
 "nbformat_minor": 2
}
